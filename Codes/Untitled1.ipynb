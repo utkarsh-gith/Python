{
 "cells": [
  {
   "cell_type": "code",
   "execution_count": 3,
   "id": "36a51546",
   "metadata": {},
   "outputs": [],
   "source": [
    "class Student(object):\n",
    "    def __init__(self,name,usn):\n",
    "        self.name=name\n",
    "        self.usn=usn"
   ]
  },
  {
   "cell_type": "code",
   "execution_count": 4,
   "id": "e2f0e2bc",
   "metadata": {},
   "outputs": [],
   "source": [
    "s1=Student(\"Utkarsh\",23409)"
   ]
  },
  {
   "cell_type": "code",
   "execution_count": 5,
   "id": "45bdb73a",
   "metadata": {},
   "outputs": [
    {
     "data": {
      "text/plain": [
       "'Utkarsh'"
      ]
     },
     "execution_count": 5,
     "metadata": {},
     "output_type": "execute_result"
    }
   ],
   "source": [
    "s1.name"
   ]
  },
  {
   "cell_type": "code",
   "execution_count": 6,
   "id": "5c4e0196",
   "metadata": {},
   "outputs": [
    {
     "data": {
      "text/plain": [
       "23409"
      ]
     },
     "execution_count": 6,
     "metadata": {},
     "output_type": "execute_result"
    }
   ],
   "source": [
    "s1.usn"
   ]
  },
  {
   "cell_type": "code",
   "execution_count": 12,
   "id": "0b215b26",
   "metadata": {},
   "outputs": [],
   "source": [
    "class Circle(object):\n",
    "    def __init__(self,radius):\n",
    "        self.radius=radius\n",
    "        \n",
    "    def add(self,r):\n",
    "        self.radius = self.radius + r\n",
    "    \n",
    "    def drawCircle(self):\n",
    "        plt.gca().add_patch(plt.Circle((0, 0), radius=self.radius, fc=self.color))\n",
    "        plt.axis('scaled')\n",
    "        plt.show() "
   ]
  },
  {
   "cell_type": "code",
   "execution_count": 9,
   "id": "20824414",
   "metadata": {},
   "outputs": [],
   "source": [
    "c1 = Circle(3)"
   ]
  },
  {
   "cell_type": "code",
   "execution_count": 10,
   "id": "cd151bbe",
   "metadata": {},
   "outputs": [
    {
     "data": {
      "text/plain": [
       "<bound method Circle.drawcircle of <__main__.Circle object at 0x1072794d0>>"
      ]
     },
     "execution_count": 10,
     "metadata": {},
     "output_type": "execute_result"
    }
   ],
   "source": [
    "c1.drawcircle"
   ]
  },
  {
   "cell_type": "code",
   "execution_count": 14,
   "id": "b6ba18e3",
   "metadata": {},
   "outputs": [
    {
     "ename": "AttributeError",
     "evalue": "'Circle' object has no attribute 'drawCircle'",
     "output_type": "error",
     "traceback": [
      "\u001b[0;31m---------------------------------------------------------------------------\u001b[0m",
      "\u001b[0;31mAttributeError\u001b[0m                            Traceback (most recent call last)",
      "Cell \u001b[0;32mIn[14], line 1\u001b[0m\n\u001b[0;32m----> 1\u001b[0m c1\u001b[38;5;241m.\u001b[39mdrawCircle()\n",
      "\u001b[0;31mAttributeError\u001b[0m: 'Circle' object has no attribute 'drawCircle'"
     ]
    }
   ],
   "source": [
    "c1.drawCircle()"
   ]
  },
  {
   "cell_type": "code",
   "execution_count": 18,
   "id": "0c7c4911",
   "metadata": {},
   "outputs": [],
   "source": [
    "import matplotlib.pyplot as plt\n",
    "class Circle(object):\n",
    "    \n",
    "    # Constructor\n",
    "    def __init__(self, radius=3, color='blue'):\n",
    "        self.radius = radius\n",
    "        self.color = color \n",
    "    \n",
    "    # Method\n",
    "    def add_radius(self, r):\n",
    "        self.radius = self.radius + r\n",
    "        return(self.radius)\n",
    "    \n",
    "    # Method\n",
    "    def drawCircle(self):\n",
    "        plt.gca().add_patch(plt.Circle((0, 0), radius=self.radius, fc=self.color))\n",
    "        plt.axis('scaled')\n",
    "        plt.show()  "
   ]
  },
  {
   "cell_type": "code",
   "execution_count": 19,
   "id": "5bae2447",
   "metadata": {},
   "outputs": [],
   "source": [
    "RedCircle = Circle(10, 'red')"
   ]
  },
  {
   "cell_type": "code",
   "execution_count": 20,
   "id": "12679f0a",
   "metadata": {},
   "outputs": [
    {
     "data": {
      "image/png": "[encoded data removed]",
      "text/plain": [
       "<Figure size 640x480 with 1 Axes>"
      ]
     },
     "metadata": {},
     "output_type": "display_data"
    }
   ],
   "source": [
    "RedCircle.drawCircle()"
   ]
  },
  {
   "cell_type": "code",
   "execution_count": 21,
   "id": "dee9efc4",
   "metadata": {},
   "outputs": [],
   "source": [
    "x=1"
   ]
  },
  {
   "cell_type": "code",
   "execution_count": 22,
   "id": "23a65028",
   "metadata": {},
   "outputs": [],
   "source": [
    "x=x>5"
   ]
  },
  {
   "cell_type": "code",
   "execution_count": 23,
   "id": "02c6264b",
   "metadata": {},
   "outputs": [
    {
     "data": {
      "text/plain": [
       "False"
      ]
     },
     "execution_count": 23,
     "metadata": {},
     "output_type": "execute_result"
    }
   ],
   "source": [
    "x"
   ]
  },
  {
   "cell_type": "code",
   "execution_count": 24,
   "id": "ee0df1d7",
   "metadata": {},
   "outputs": [],
   "source": [
    "class Points(object):\n",
    "    def __init__(self, x, y):\n",
    "        self.x = x \n",
    "        self.y = y \n",
    "\n",
    "\n",
    "    def print_point(self): \n",
    "        print('x=', self.x, ' y=', self.y) "
   ]
  },
  {
   "cell_type": "code",
   "execution_count": 25,
   "id": "8a7ce1d0",
   "metadata": {},
   "outputs": [
    {
     "name": "stdout",
     "output_type": "stream",
     "text": [
      "x= A  y= B\n"
     ]
    }
   ],
   "source": [
    "p1 = Points(\"A\", \"B\") \n",
    "p1.print_point()"
   ]
  },
  {
   "cell_type": "code",
   "execution_count": 26,
   "id": "451cd40d",
   "metadata": {},
   "outputs": [
    {
     "name": "stdout",
     "output_type": "stream",
     "text": [
      "x= 2  y= 2\n"
     ]
    }
   ],
   "source": [
    "class Points(object): \n",
    "    def __init__(self, x, y): \n",
    "        self.x = x \n",
    "        self.y = y \n",
    "    def print_point(self): \n",
    "        print('x=', self.x, ' y=', self.y) \n",
    "\n",
    "\n",
    "p2 = Points(1, 2) \n",
    "p2.x = 2 \n",
    "p2.print_point()"
   ]
  },
  {
   "cell_type": "code",
   "execution_count": 27,
   "id": "af8b455f",
   "metadata": {},
   "outputs": [],
   "source": [
    "file1 = open(\"/Users/utkarshpratapsingh/Programming/Python/Codes/example.txt\",\"r\")"
   ]
  },
  {
   "cell_type": "code",
   "execution_count": 28,
   "id": "f16c7f9c",
   "metadata": {},
   "outputs": [
    {
     "data": {
      "text/plain": [
       "'/Users/utkarshpratapsingh/Programming/Python/Codes/example.txt'"
      ]
     },
     "execution_count": 28,
     "metadata": {},
     "output_type": "execute_result"
    }
   ],
   "source": [
    "file1.name"
   ]
  },
  {
   "cell_type": "code",
   "execution_count": 29,
   "id": "5fae5ab5",
   "metadata": {},
   "outputs": [
    {
     "data": {
      "text/plain": [
       "'r'"
      ]
     },
     "execution_count": 29,
     "metadata": {},
     "output_type": "execute_result"
    }
   ],
   "source": [
    "file1.mode"
   ]
  },
  {
   "cell_type": "code",
   "execution_count": 30,
   "id": "07842b51",
   "metadata": {},
   "outputs": [],
   "source": [
    "file1.close()"
   ]
  },
  {
   "cell_type": "code",
   "execution_count": 31,
   "id": "d9130a9f",
   "metadata": {},
   "outputs": [
    {
     "name": "stdout",
     "output_type": "stream",
     "text": [
      "True\n"
     ]
    }
   ],
   "source": [
    "print(file1.closed)"
   ]
  },
  {
   "cell_type": "code",
   "execution_count": 32,
   "id": "b8223d18",
   "metadata": {},
   "outputs": [],
   "source": [
    "file1 = open(\"/Users/utkarshpratapsingh/Programming/Python/Codes/example.txt\",\"r\")"
   ]
  },
  {
   "cell_type": "code",
   "execution_count": 33,
   "id": "74f5a771",
   "metadata": {},
   "outputs": [
    {
     "data": {
      "text/plain": [
       "False"
      ]
     },
     "execution_count": 33,
     "metadata": {},
     "output_type": "execute_result"
    }
   ],
   "source": [
    "file1.closed"
   ]
  },
  {
   "cell_type": "code",
   "execution_count": 34,
   "id": "27c6a699",
   "metadata": {},
   "outputs": [
    {
     "ename": "AttributeError",
     "evalue": "'_io.TextIOWrapper' object has no attribute 'open'",
     "output_type": "error",
     "traceback": [
      "\u001b[0;31m---------------------------------------------------------------------------\u001b[0m",
      "\u001b[0;31mAttributeError\u001b[0m                            Traceback (most recent call last)",
      "Cell \u001b[0;32mIn[34], line 1\u001b[0m\n\u001b[0;32m----> 1\u001b[0m file1\u001b[38;5;241m.\u001b[39mopen\n",
      "\u001b[0;31mAttributeError\u001b[0m: '_io.TextIOWrapper' object has no attribute 'open'"
     ]
    }
   ],
   "source": [
    "file1.open"
   ]
  },
  {
   "cell_type": "code",
   "execution_count": 35,
   "id": "a6926ac5",
   "metadata": {},
   "outputs": [],
   "source": [
    "file1.close()"
   ]
  },
  {
   "cell_type": "code",
   "execution_count": 36,
   "id": "90cf36fb",
   "metadata": {},
   "outputs": [],
   "source": [
    "file1 = open(\"/Users/utkarshpratapsingh/Programming/Python/Codes/example.txt\",\"r\")"
   ]
  },
  {
   "cell_type": "code",
   "execution_count": 37,
   "id": "2441f1b6",
   "metadata": {},
   "outputs": [],
   "source": [
    "file = file1.read()"
   ]
  },
  {
   "cell_type": "code",
   "execution_count": 38,
   "id": "2602147a",
   "metadata": {},
   "outputs": [],
   "source": [
    "file1.close()"
   ]
  },
  {
   "cell_type": "code",
   "execution_count": 39,
   "id": "d40dd333",
   "metadata": {},
   "outputs": [
    {
     "data": {
      "text/plain": [
       "'Hello World'"
      ]
     },
     "execution_count": 39,
     "metadata": {},
     "output_type": "execute_result"
    }
   ],
   "source": [
    "file"
   ]
  },
  {
   "cell_type": "code",
   "execution_count": 43,
   "id": "8c3367f7",
   "metadata": {},
   "outputs": [
    {
     "name": "stdout",
     "output_type": "stream",
     "text": [
      "File CLosed? True\n",
      "Hello World\n",
      "\n"
     ]
    }
   ],
   "source": [
    "with open(\"/Users/utkarshpratapsingh/Programming/Python/Codes/example.txt\",\"r\") as file1:\n",
    "    filestuff = file1.readline()\n",
    "print(\"File CLosed?\" , file1.closed)\n",
    "print(filestuff)"
   ]
  },
  {
   "cell_type": "code",
   "execution_count": 1,
   "id": "84c95031",
   "metadata": {},
   "outputs": [],
   "source": [
    "file1 = open(\"/Users/utkarshpratapsingh/Programming/Python/Codes/example.txt\",\"w\")"
   ]
  },
  {
   "cell_type": "code",
   "execution_count": 3,
   "id": "de4cc0f1",
   "metadata": {},
   "outputs": [
    {
     "data": {
      "text/plain": [
       "41"
      ]
     },
     "execution_count": 3,
     "metadata": {},
     "output_type": "execute_result"
    }
   ],
   "source": [
    "file1.write(\"Hello World!\\nI am Utkarsh\\nHave a good day\")"
   ]
  },
  {
   "cell_type": "code",
   "execution_count": 4,
   "id": "e89a0a4f",
   "metadata": {},
   "outputs": [
    {
     "ename": "UnsupportedOperation",
     "evalue": "not readable",
     "output_type": "error",
     "traceback": [
      "\u001b[0;31m---------------------------------------------------------------------------\u001b[0m",
      "\u001b[0;31mUnsupportedOperation\u001b[0m                      Traceback (most recent call last)",
      "Cell \u001b[0;32mIn[4], line 1\u001b[0m\n\u001b[0;32m----> 1\u001b[0m file1\u001b[38;5;241m.\u001b[39mread()\n",
      "\u001b[0;31mUnsupportedOperation\u001b[0m: not readable"
     ]
    }
   ],
   "source": [
    "file1.read()"
   ]
  },
  {
   "cell_type": "code",
   "execution_count": 5,
   "id": "ed3d763e",
   "metadata": {},
   "outputs": [],
   "source": [
    "file1.close()"
   ]
  },
  {
   "cell_type": "code",
   "execution_count": 7,
   "id": "03205043",
   "metadata": {},
   "outputs": [
    {
     "data": {
      "text/plain": [
       "True"
      ]
     },
     "execution_count": 7,
     "metadata": {},
     "output_type": "execute_result"
    }
   ],
   "source": [
    "file1.closed"
   ]
  },
  {
   "cell_type": "code",
   "execution_count": 8,
   "id": "9a1254a9",
   "metadata": {},
   "outputs": [],
   "source": [
    "Line = \"This is line 1\\nThis is line 2\\nThis is line 3\""
   ]
  },
  {
   "cell_type": "code",
   "execution_count": 10,
   "id": "6a782ab7",
   "metadata": {},
   "outputs": [],
   "source": [
    "with open(\"/Users/utkarshpratapsingh/Programming/Python/Codes/example.txt\",\"w\") as file1:\n",
    "    for line in Line:\n",
    "        file1.write(line)"
   ]
  },
  {
   "cell_type": "code",
   "execution_count": 11,
   "id": "55f34496",
   "metadata": {},
   "outputs": [
    {
     "data": {
      "text/plain": [
       "True"
      ]
     },
     "execution_count": 11,
     "metadata": {},
     "output_type": "execute_result"
    }
   ],
   "source": [
    "file1.closed"
   ]
  },
  {
   "cell_type": "code",
   "execution_count": 12,
   "id": "01407f61",
   "metadata": {},
   "outputs": [],
   "source": [
    "with open(\"/Users/utkarshpratapsingh/Programming/Python/Codes/example.txt\",\"a\") as file1:\n",
    "    for line in Line:\n",
    "        file1.write(line)"
   ]
  },
  {
   "cell_type": "code",
   "execution_count": 13,
   "id": "7d84b421",
   "metadata": {},
   "outputs": [
    {
     "ename": "ValueError",
     "evalue": "I/O operation on closed file.",
     "output_type": "error",
     "traceback": [
      "\u001b[0;31m---------------------------------------------------------------------------\u001b[0m",
      "\u001b[0;31mValueError\u001b[0m                                Traceback (most recent call last)",
      "Cell \u001b[0;32mIn[13], line 1\u001b[0m\n\u001b[0;32m----> 1\u001b[0m file1\u001b[38;5;241m.\u001b[39mread()\n",
      "\u001b[0;31mValueError\u001b[0m: I/O operation on closed file."
     ]
    }
   ],
   "source": [
    "file1.read()"
   ]
  },
  {
   "cell_type": "code",
   "execution_count": 14,
   "id": "135edc7a",
   "metadata": {},
   "outputs": [],
   "source": [
    "with open(\"/Users/utkarshpratapsingh/Programming/Python/Codes/example.txt\",\"w\") as file1:\n",
    "    for line in Line:\n",
    "        file1.write(line)"
   ]
  },
  {
   "cell_type": "code",
   "execution_count": 15,
   "id": "62c97492",
   "metadata": {},
   "outputs": [],
   "source": [
    "with open(\"/Users/utkarshpratapsingh/Programming/Python/Codes/example.txt\",\"a\") as file1:\n",
    "    for line in Line:\n",
    "        file1.write(line)"
   ]
  },
  {
   "cell_type": "code",
   "execution_count": 16,
   "id": "ad42df06",
   "metadata": {},
   "outputs": [],
   "source": [
    "with open(\"/Users/utkarshpratapsingh/Programming/Python/Codes/example.txt\",\"r\") as readfile:\n",
    "    with open(\"/Users/utkarshpratapsingh/Programming/Python/Codes/example1.txt\",\"w\") as writefile:\n",
    "        for line in readfile:\n",
    "            writefile.write(line)"
   ]
  },
  {
   "cell_type": "code",
   "execution_count": 17,
   "id": "b178dba7",
   "metadata": {},
   "outputs": [],
   "source": [
    "import pandas as pd\n",
    "# Create a Series from a list\n",
    "data = [10, 20, 30, 40, 50]\n",
    "s = pd.Series(data)\n"
   ]
  },
  {
   "cell_type": "code",
   "execution_count": 19,
   "id": "8ed81cfd",
   "metadata": {},
   "outputs": [
    {
     "data": {
      "text/plain": [
       "30"
      ]
     },
     "execution_count": 19,
     "metadata": {},
     "output_type": "execute_result"
    }
   ],
   "source": [
    "s[2]"
   ]
  },
  {
   "cell_type": "code",
   "execution_count": null,
   "id": "7b18ed53",
   "metadata": {},
   "outputs": [],
   "source": []
  }
 ],
 "metadata": {
  "kernelspec": {
   "display_name": "Python 3 (ipykernel)",
   "language": "python",
   "name": "python3"
  },
  "language_info": {
   "codemirror_mode": {
    "name": "ipython",
    "version": 3
   },
   "file_extension": ".py",
   "mimetype": "text/x-python",
   "name": "python",
   "nbconvert_exporter": "python",
   "pygments_lexer": "ipython3",
   "version": "3.11.5"
  }
 },
 "nbformat": 4,
 "nbformat_minor": 5
}
