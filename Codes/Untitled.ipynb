{
 "cells": [
  {
   "cell_type": "code",
   "execution_count": 1,
   "id": "f7501f20",
   "metadata": {},
   "outputs": [
    {
     "name": "stdout",
     "output_type": "stream",
     "text": [
      "hello world!\n"
     ]
    }
   ],
   "source": [
    "print(\"hello world!\")"
   ]
  },
  {
   "cell_type": "code",
   "execution_count": 2,
   "id": "f28f7709",
   "metadata": {},
   "outputs": [],
   "source": [
    "y = 10"
   ]
  },
  {
   "cell_type": "code",
   "execution_count": 3,
   "id": "0c6bd4b8",
   "metadata": {},
   "outputs": [
    {
     "data": {
      "text/plain": [
       "10.0"
      ]
     },
     "execution_count": 3,
     "metadata": {},
     "output_type": "execute_result"
    }
   ],
   "source": [
    "float(y)"
   ]
  },
  {
   "cell_type": "code",
   "execution_count": 4,
   "id": "2293f120",
   "metadata": {},
   "outputs": [],
   "source": [
    "a = '5'"
   ]
  },
  {
   "cell_type": "code",
   "execution_count": 5,
   "id": "3b2bbd1b",
   "metadata": {},
   "outputs": [
    {
     "data": {
      "text/plain": [
       "5.0"
      ]
     },
     "execution_count": 5,
     "metadata": {},
     "output_type": "execute_result"
    }
   ],
   "source": [
    "float(a)"
   ]
  },
  {
   "cell_type": "code",
   "execution_count": 6,
   "id": "38d67659",
   "metadata": {},
   "outputs": [
    {
     "data": {
      "text/plain": [
       "str"
      ]
     },
     "execution_count": 6,
     "metadata": {},
     "output_type": "execute_result"
    }
   ],
   "source": [
    "type(a)"
   ]
  },
  {
   "cell_type": "code",
   "execution_count": 7,
   "id": "630624d0",
   "metadata": {},
   "outputs": [],
   "source": [
    "a = float(a)"
   ]
  },
  {
   "cell_type": "code",
   "execution_count": 8,
   "id": "ac9639c9",
   "metadata": {},
   "outputs": [
    {
     "data": {
      "text/plain": [
       "float"
      ]
     },
     "execution_count": 8,
     "metadata": {},
     "output_type": "execute_result"
    }
   ],
   "source": [
    "type(a)"
   ]
  },
  {
   "cell_type": "code",
   "execution_count": 9,
   "id": "1728e16c",
   "metadata": {},
   "outputs": [
    {
     "data": {
      "text/plain": [
       "bool"
      ]
     },
     "execution_count": 9,
     "metadata": {},
     "output_type": "execute_result"
    }
   ],
   "source": [
    "type(True)"
   ]
  },
  {
   "cell_type": "code",
   "execution_count": 10,
   "id": "ef632b2a",
   "metadata": {},
   "outputs": [
    {
     "name": "stdout",
     "output_type": "stream",
     "text": [
      "3.11.5 (main, Sep 11 2023, 08:31:25) [Clang 14.0.6 ]\n"
     ]
    }
   ],
   "source": [
    "import sys\n",
    "print(sys.version)"
   ]
  },
  {
   "cell_type": "code",
   "execution_count": 11,
   "id": "9d611d26",
   "metadata": {},
   "outputs": [
    {
     "data": {
      "text/plain": [
       "bool"
      ]
     },
     "execution_count": 11,
     "metadata": {},
     "output_type": "execute_result"
    }
   ],
   "source": [
    "type(\"hello\" == \"world\")"
   ]
  },
  {
   "cell_type": "code",
   "execution_count": 12,
   "id": "a5257eb6",
   "metadata": {},
   "outputs": [
    {
     "data": {
      "text/plain": [
       "False"
      ]
     },
     "execution_count": 12,
     "metadata": {},
     "output_type": "execute_result"
    }
   ],
   "source": [
    "\"hello\" == \"world\""
   ]
  },
  {
   "cell_type": "code",
   "execution_count": 13,
   "id": "e18ec3a3",
   "metadata": {},
   "outputs": [
    {
     "data": {
      "text/plain": [
       "3"
      ]
     },
     "execution_count": 13,
     "metadata": {},
     "output_type": "execute_result"
    }
   ],
   "source": [
    "int(3.99)"
   ]
  },
  {
   "cell_type": "code",
   "execution_count": 14,
   "id": "2c92ccac",
   "metadata": {},
   "outputs": [
    {
     "data": {
      "text/plain": [
       "5.0"
      ]
     },
     "execution_count": 14,
     "metadata": {},
     "output_type": "execute_result"
    }
   ],
   "source": [
    "6*10/12"
   ]
  },
  {
   "cell_type": "code",
   "execution_count": 1,
   "id": "50089f58",
   "metadata": {},
   "outputs": [],
   "source": [
    "name = \"Michael Jackson\""
   ]
  },
  {
   "cell_type": "code",
   "execution_count": 2,
   "id": "0ccf111e",
   "metadata": {},
   "outputs": [
    {
     "data": {
      "text/plain": [
       "'M'"
      ]
     },
     "execution_count": 2,
     "metadata": {},
     "output_type": "execute_result"
    }
   ],
   "source": [
    "name[0]"
   ]
  },
  {
   "cell_type": "code",
   "execution_count": 3,
   "id": "eedd3d03",
   "metadata": {},
   "outputs": [
    {
     "data": {
      "text/plain": [
       "'n'"
      ]
     },
     "execution_count": 3,
     "metadata": {},
     "output_type": "execute_result"
    }
   ],
   "source": [
    "name[14]"
   ]
  },
  {
   "cell_type": "code",
   "execution_count": 4,
   "id": "69118ea9",
   "metadata": {},
   "outputs": [
    {
     "data": {
      "text/plain": [
       "'M'"
      ]
     },
     "execution_count": 4,
     "metadata": {},
     "output_type": "execute_result"
    }
   ],
   "source": [
    "name[-0]"
   ]
  },
  {
   "cell_type": "code",
   "execution_count": 5,
   "id": "72b1b649",
   "metadata": {},
   "outputs": [
    {
     "data": {
      "text/plain": [
       "'n'"
      ]
     },
     "execution_count": 5,
     "metadata": {},
     "output_type": "execute_result"
    }
   ],
   "source": [
    "name[-1]"
   ]
  },
  {
   "cell_type": "code",
   "execution_count": 6,
   "id": "67883104",
   "metadata": {},
   "outputs": [
    {
     "data": {
      "text/plain": [
       "' '"
      ]
     },
     "execution_count": 6,
     "metadata": {},
     "output_type": "execute_result"
    }
   ],
   "source": [
    "name[-8]"
   ]
  },
  {
   "cell_type": "code",
   "execution_count": 8,
   "id": "9ecc6789",
   "metadata": {},
   "outputs": [
    {
     "data": {
      "text/plain": [
       "'M'"
      ]
     },
     "execution_count": 8,
     "metadata": {},
     "output_type": "execute_result"
    }
   ],
   "source": [
    "name[-15]"
   ]
  },
  {
   "cell_type": "code",
   "execution_count": 9,
   "id": "ae81f319",
   "metadata": {},
   "outputs": [
    {
     "ename": "IndexError",
     "evalue": "string index out of range",
     "output_type": "error",
     "traceback": [
      "\u001b[0;31m---------------------------------------------------------------------------\u001b[0m",
      "\u001b[0;31mIndexError\u001b[0m                                Traceback (most recent call last)",
      "Cell \u001b[0;32mIn[9], line 1\u001b[0m\n\u001b[0;32m----> 1\u001b[0m name[\u001b[38;5;241m-\u001b[39m\u001b[38;5;241m16\u001b[39m]\n",
      "\u001b[0;31mIndexError\u001b[0m: string index out of range"
     ]
    }
   ],
   "source": [
    "name[-16]"
   ]
  },
  {
   "cell_type": "code",
   "execution_count": 10,
   "id": "0b74e86c",
   "metadata": {},
   "outputs": [
    {
     "data": {
      "text/plain": [
       "'Mich'"
      ]
     },
     "execution_count": 10,
     "metadata": {},
     "output_type": "execute_result"
    }
   ],
   "source": [
    "name[0:4]"
   ]
  },
  {
   "cell_type": "code",
   "execution_count": 11,
   "id": "ffb8c826",
   "metadata": {},
   "outputs": [
    {
     "data": {
      "text/plain": [
       "'Mhlas'"
      ]
     },
     "execution_count": 11,
     "metadata": {},
     "output_type": "execute_result"
    }
   ],
   "source": [
    "name[::3]"
   ]
  },
  {
   "cell_type": "code",
   "execution_count": 12,
   "id": "f2750a3e",
   "metadata": {},
   "outputs": [
    {
     "data": {
      "text/plain": [
       "'McalJcsn'"
      ]
     },
     "execution_count": 12,
     "metadata": {},
     "output_type": "execute_result"
    }
   ],
   "source": [
    "name[::2]"
   ]
  },
  {
   "cell_type": "code",
   "execution_count": 13,
   "id": "fbfbb882",
   "metadata": {},
   "outputs": [
    {
     "data": {
      "text/plain": [
       "'Mhl'"
      ]
     },
     "execution_count": 13,
     "metadata": {},
     "output_type": "execute_result"
    }
   ],
   "source": [
    "name[0:7:3]"
   ]
  },
  {
   "cell_type": "code",
   "execution_count": 14,
   "id": "ede35186",
   "metadata": {},
   "outputs": [
    {
     "data": {
      "text/plain": [
       "'aa'"
      ]
     },
     "execution_count": 14,
     "metadata": {},
     "output_type": "execute_result"
    }
   ],
   "source": [
    "name[4:12:5]"
   ]
  },
  {
   "cell_type": "code",
   "execution_count": 15,
   "id": "93d38b62",
   "metadata": {},
   "outputs": [
    {
     "data": {
      "text/plain": [
       "'Michael JacksonMichael JacksonMichael Jackson'"
      ]
     },
     "execution_count": 15,
     "metadata": {},
     "output_type": "execute_result"
    }
   ],
   "source": [
    "name * 3"
   ]
  },
  {
   "cell_type": "markdown",
   "id": "ade85a66",
   "metadata": {},
   "source": []
  },
  {
   "cell_type": "code",
   "execution_count": 16,
   "id": "fe27680a",
   "metadata": {},
   "outputs": [
    {
     "data": {
      "text/plain": [
       "'Michael Jacksonknows to dance!'"
      ]
     },
     "execution_count": 16,
     "metadata": {},
     "output_type": "execute_result"
    }
   ],
   "source": [
    "name + \"knows to dance!\""
   ]
  },
  {
   "cell_type": "code",
   "execution_count": 17,
   "id": "0bf1cbb6",
   "metadata": {},
   "outputs": [
    {
     "data": {
      "text/plain": [
       "'MICHAEL JACKSON'"
      ]
     },
     "execution_count": 17,
     "metadata": {},
     "output_type": "execute_result"
    }
   ],
   "source": [
    "name.upper()"
   ]
  },
  {
   "cell_type": "code",
   "execution_count": 18,
   "id": "b3a2d684",
   "metadata": {},
   "outputs": [
    {
     "data": {
      "text/plain": [
       "'michael jackson'"
      ]
     },
     "execution_count": 18,
     "metadata": {},
     "output_type": "execute_result"
    }
   ],
   "source": [
    "name.lower()\n"
   ]
  },
  {
   "cell_type": "code",
   "execution_count": 20,
   "id": "cb35fdd7",
   "metadata": {},
   "outputs": [
    {
     "data": {
      "text/plain": [
       "'James Jackson'"
      ]
     },
     "execution_count": 20,
     "metadata": {},
     "output_type": "execute_result"
    }
   ],
   "source": [
    "name.replace('Michael','James')\n"
   ]
  },
  {
   "cell_type": "code",
   "execution_count": 21,
   "id": "26f08a23",
   "metadata": {},
   "outputs": [
    {
     "data": {
      "text/plain": [
       "5"
      ]
     },
     "execution_count": 21,
     "metadata": {},
     "output_type": "execute_result"
    }
   ],
   "source": [
    "name.find('el')"
   ]
  },
  {
   "cell_type": "code",
   "execution_count": 22,
   "id": "1090b6c5",
   "metadata": {},
   "outputs": [
    {
     "data": {
      "text/plain": [
       "-1"
      ]
     },
     "execution_count": 22,
     "metadata": {},
     "output_type": "execute_result"
    }
   ],
   "source": [
    "name.find('kkl')"
   ]
  },
  {
   "cell_type": "code",
   "execution_count": 23,
   "id": "838558d8",
   "metadata": {},
   "outputs": [
    {
     "data": {
      "text/plain": [
       "1"
      ]
     },
     "execution_count": 23,
     "metadata": {},
     "output_type": "execute_result"
    }
   ],
   "source": [
    "int(True)"
   ]
  },
  {
   "cell_type": "code",
   "execution_count": 1,
   "id": "97026eff",
   "metadata": {},
   "outputs": [],
   "source": [
    "tupple1 = ('a',2,4) + (5.5,'okay')"
   ]
  },
  {
   "cell_type": "code",
   "execution_count": 2,
   "id": "6f755cd8",
   "metadata": {},
   "outputs": [
    {
     "data": {
      "text/plain": [
       "('a', 2, 4, 5.5, 'okay')"
      ]
     },
     "execution_count": 2,
     "metadata": {},
     "output_type": "execute_result"
    }
   ],
   "source": [
    "tupple1"
   ]
  },
  {
   "cell_type": "code",
   "execution_count": 3,
   "id": "80ee2596",
   "metadata": {},
   "outputs": [
    {
     "ename": "TypeError",
     "evalue": "unsupported operand type(s) for -: 'tuple' and 'tuple'",
     "output_type": "error",
     "traceback": [
      "\u001b[0;31m---------------------------------------------------------------------------\u001b[0m",
      "\u001b[0;31mTypeError\u001b[0m                                 Traceback (most recent call last)",
      "Cell \u001b[0;32mIn[3], line 1\u001b[0m\n\u001b[0;32m----> 1\u001b[0m tupple2 \u001b[38;5;241m=\u001b[39m tupple1 \u001b[38;5;241m-\u001b[39m (\u001b[38;5;241m2\u001b[39m,\u001b[38;5;124m'\u001b[39m\u001b[38;5;124mokay\u001b[39m\u001b[38;5;124m'\u001b[39m)\n",
      "\u001b[0;31mTypeError\u001b[0m: unsupported operand type(s) for -: 'tuple' and 'tuple'"
     ]
    }
   ],
   "source": [
    "tupple2 = tupple1 - (2,'okay')"
   ]
  },
  {
   "cell_type": "code",
   "execution_count": 1,
   "id": "acbb0698",
   "metadata": {},
   "outputs": [],
   "source": [
    "tuple = ('a',(1,2,3),4,('b','c'))"
   ]
  },
  {
   "cell_type": "code",
   "execution_count": 2,
   "id": "dab493c2",
   "metadata": {},
   "outputs": [
    {
     "data": {
      "text/plain": [
       "(1, 2, 3)"
      ]
     },
     "execution_count": 2,
     "metadata": {},
     "output_type": "execute_result"
    }
   ],
   "source": [
    "tuple[1]"
   ]
  },
  {
   "cell_type": "code",
   "execution_count": 3,
   "id": "63f24865",
   "metadata": {},
   "outputs": [
    {
     "data": {
      "text/plain": [
       "('b', 'c')"
      ]
     },
     "execution_count": 3,
     "metadata": {},
     "output_type": "execute_result"
    }
   ],
   "source": [
    "tuple[3]"
   ]
  },
  {
   "cell_type": "code",
   "execution_count": 4,
   "id": "1d01dece",
   "metadata": {},
   "outputs": [
    {
     "ename": "SyntaxError",
     "evalue": "unterminated string literal (detected at line 1) (1968060681.py, line 1)",
     "output_type": "error",
     "traceback": [
      "\u001b[0;36m  Cell \u001b[0;32mIn[4], line 1\u001b[0;36m\u001b[0m\n\u001b[0;31m    tuple3 = (('hello','hi'),('no',know'))\u001b[0m\n\u001b[0m                                       ^\u001b[0m\n\u001b[0;31mSyntaxError\u001b[0m\u001b[0;31m:\u001b[0m unterminated string literal (detected at line 1)\n"
     ]
    }
   ],
   "source": [
    "tuple3 = (('hello','hi'),('no',know'))"
   ]
  },
  {
   "cell_type": "code",
   "execution_count": 5,
   "id": "1656b935",
   "metadata": {},
   "outputs": [],
   "source": [
    "tuple3 = (('hello','hi'),('no','know'))"
   ]
  },
  {
   "cell_type": "code",
   "execution_count": 6,
   "id": "411ac149",
   "metadata": {},
   "outputs": [
    {
     "data": {
      "text/plain": [
       "'h'"
      ]
     },
     "execution_count": 6,
     "metadata": {},
     "output_type": "execute_result"
    }
   ],
   "source": [
    "tuple3[0][0][0]"
   ]
  },
  {
   "cell_type": "code",
   "execution_count": 7,
   "id": "b7245ff3",
   "metadata": {},
   "outputs": [],
   "source": [
    " A=(1,2,3,4,5)"
   ]
  },
  {
   "cell_type": "code",
   "execution_count": 8,
   "id": "28e132c7",
   "metadata": {},
   "outputs": [
    {
     "data": {
      "text/plain": [
       "(2, 3, 4)"
      ]
     },
     "execution_count": 8,
     "metadata": {},
     "output_type": "execute_result"
    }
   ],
   "source": [
    "A[1:4]"
   ]
  },
  {
   "cell_type": "code",
   "execution_count": 9,
   "id": "1533bb04",
   "metadata": {},
   "outputs": [
    {
     "data": {
      "text/plain": [
       "[1, 2, 3, 1, 1, 1]"
      ]
     },
     "execution_count": 9,
     "metadata": {},
     "output_type": "execute_result"
    }
   ],
   "source": [
    "[1,2,3] + [1,1,1]"
   ]
  },
  {
   "cell_type": "code",
   "execution_count": 10,
   "id": "665d0e05",
   "metadata": {},
   "outputs": [],
   "source": [
    "Dict = { \"Iron Man\":2008 , \"The Incredible Hulk\":2008 , \"Thor\":2011 , \"Captain America: The First Avenger\":2011 , \"Marvel’s The First Avengers\":2012 }"
   ]
  },
  {
   "cell_type": "code",
   "execution_count": 11,
   "id": "3c669219",
   "metadata": {},
   "outputs": [
    {
     "data": {
      "text/plain": [
       "{'Iron Man': 2008,\n",
       " 'The Incredible Hulk': 2008,\n",
       " 'Thor': 2011,\n",
       " 'Captain America: The First Avenger': 2011,\n",
       " 'Marvel’s The First Avengers': 2012}"
      ]
     },
     "execution_count": 11,
     "metadata": {},
     "output_type": "execute_result"
    }
   ],
   "source": [
    "Dict"
   ]
  },
  {
   "cell_type": "code",
   "execution_count": 12,
   "id": "2e76afbb",
   "metadata": {},
   "outputs": [],
   "source": [
    "Dict[\"Ant-Man\"] = 2015"
   ]
  },
  {
   "cell_type": "code",
   "execution_count": 13,
   "id": "c233055d",
   "metadata": {},
   "outputs": [
    {
     "data": {
      "text/plain": [
       "{'Iron Man': 2008,\n",
       " 'The Incredible Hulk': 2008,\n",
       " 'Thor': 2011,\n",
       " 'Captain America: The First Avenger': 2011,\n",
       " 'Marvel’s The First Avengers': 2012,\n",
       " 'Ant-Man': 2015}"
      ]
     },
     "execution_count": 13,
     "metadata": {},
     "output_type": "execute_result"
    }
   ],
   "source": [
    "Dict"
   ]
  },
  {
   "cell_type": "code",
   "execution_count": 14,
   "id": "240134c4",
   "metadata": {},
   "outputs": [],
   "source": [
    "del(Dict[\"Ant-Man\"])"
   ]
  },
  {
   "cell_type": "code",
   "execution_count": 15,
   "id": "a43cff31",
   "metadata": {},
   "outputs": [],
   "source": [
    "Dict[\"Ant-Man\"] = '2015'"
   ]
  },
  {
   "cell_type": "code",
   "execution_count": 16,
   "id": "91e4077d",
   "metadata": {},
   "outputs": [
    {
     "data": {
      "text/plain": [
       "{'Iron Man': 2008,\n",
       " 'The Incredible Hulk': 2008,\n",
       " 'Thor': 2011,\n",
       " 'Captain America: The First Avenger': 2011,\n",
       " 'Marvel’s The First Avengers': 2012,\n",
       " 'Ant-Man': '2015'}"
      ]
     },
     "execution_count": 16,
     "metadata": {},
     "output_type": "execute_result"
    }
   ],
   "source": [
    "Dict"
   ]
  },
  {
   "cell_type": "code",
   "execution_count": 17,
   "id": "09230c92",
   "metadata": {},
   "outputs": [
    {
     "data": {
      "text/plain": [
       "True"
      ]
     },
     "execution_count": 17,
     "metadata": {},
     "output_type": "execute_result"
    }
   ],
   "source": [
    "\"Thor\" in Dict"
   ]
  },
  {
   "cell_type": "code",
   "execution_count": 18,
   "id": "828811db",
   "metadata": {},
   "outputs": [
    {
     "data": {
      "text/plain": [
       "False"
      ]
     },
     "execution_count": 18,
     "metadata": {},
     "output_type": "execute_result"
    }
   ],
   "source": [
    "\"Thor1\" in Dict"
   ]
  },
  {
   "cell_type": "code",
   "execution_count": 19,
   "id": "baa09ae8",
   "metadata": {},
   "outputs": [
    {
     "data": {
      "text/plain": [
       "dict_keys(['Iron Man', 'The Incredible Hulk', 'Thor', 'Captain America: The First Avenger', 'Marvel’s The First Avengers', 'Ant-Man'])"
      ]
     },
     "execution_count": 19,
     "metadata": {},
     "output_type": "execute_result"
    }
   ],
   "source": [
    "Dict.keys()"
   ]
  },
  {
   "cell_type": "code",
   "execution_count": 20,
   "id": "3bc917ef",
   "metadata": {},
   "outputs": [
    {
     "ename": "AttributeError",
     "evalue": "'dict_keys' object has no attribute 'list'",
     "output_type": "error",
     "traceback": [
      "\u001b[0;31m---------------------------------------------------------------------------\u001b[0m",
      "\u001b[0;31mAttributeError\u001b[0m                            Traceback (most recent call last)",
      "Cell \u001b[0;32mIn[20], line 1\u001b[0m\n\u001b[0;32m----> 1\u001b[0m Dict\u001b[38;5;241m.\u001b[39mkeys()\u001b[38;5;241m.\u001b[39mlist()\n",
      "\u001b[0;31mAttributeError\u001b[0m: 'dict_keys' object has no attribute 'list'"
     ]
    }
   ],
   "source": [
    "Dict.keys().list()"
   ]
  },
  {
   "cell_type": "code",
   "execution_count": 21,
   "id": "0d6950ff",
   "metadata": {},
   "outputs": [
    {
     "data": {
      "text/plain": [
       "['Iron Man',\n",
       " 'The Incredible Hulk',\n",
       " 'Thor',\n",
       " 'Captain America: The First Avenger',\n",
       " 'Marvel’s The First Avengers',\n",
       " 'Ant-Man']"
      ]
     },
     "execution_count": 21,
     "metadata": {},
     "output_type": "execute_result"
    }
   ],
   "source": [
    "list(Dict.keys())"
   ]
  },
  {
   "cell_type": "code",
   "execution_count": 22,
   "id": "6e40a3b5",
   "metadata": {},
   "outputs": [],
   "source": [
    "A=((11,12),[21,22])"
   ]
  },
  {
   "cell_type": "code",
   "execution_count": 23,
   "id": "e1b1e6b8",
   "metadata": {},
   "outputs": [
    {
     "data": {
      "text/plain": [
       "[21, 22]"
      ]
     },
     "execution_count": 23,
     "metadata": {},
     "output_type": "execute_result"
    }
   ],
   "source": [
    "A[1]"
   ]
  },
  {
   "cell_type": "code",
   "execution_count": 24,
   "id": "476fc0f6",
   "metadata": {},
   "outputs": [],
   "source": [
    "V={'1','2'}"
   ]
  },
  {
   "cell_type": "code",
   "execution_count": 25,
   "id": "c3e72e56",
   "metadata": {},
   "outputs": [],
   "source": [
    "V.add('3')"
   ]
  },
  {
   "cell_type": "code",
   "execution_count": 26,
   "id": "856d0d89",
   "metadata": {},
   "outputs": [
    {
     "data": {
      "text/plain": [
       "{'1', '2', '3'}"
      ]
     },
     "execution_count": 26,
     "metadata": {},
     "output_type": "execute_result"
    }
   ],
   "source": [
    "V\n"
   ]
  },
  {
   "cell_type": "code",
   "execution_count": 27,
   "id": "4b353390",
   "metadata": {},
   "outputs": [
    {
     "ename": "SyntaxError",
     "evalue": "cannot assign to literal here. Maybe you meant '==' instead of '='? (3293032332.py, line 1)",
     "output_type": "error",
     "traceback": [
      "\u001b[0;36m  Cell \u001b[0;32mIn[27], line 1\u001b[0;36m\u001b[0m\n\u001b[0;31m    1=2\u001b[0m\n\u001b[0m    ^\u001b[0m\n\u001b[0;31mSyntaxError\u001b[0m\u001b[0;31m:\u001b[0m cannot assign to literal here. Maybe you meant '==' instead of '='?\n"
     ]
    }
   ],
   "source": [
    "1=2"
   ]
  },
  {
   "cell_type": "code",
   "execution_count": 28,
   "id": "55d304f3",
   "metadata": {},
   "outputs": [
    {
     "data": {
      "text/plain": [
       "False"
      ]
     },
     "execution_count": 28,
     "metadata": {},
     "output_type": "execute_result"
    }
   ],
   "source": [
    "i=6\n",
    "i<5"
   ]
  },
  {
   "cell_type": "code",
   "execution_count": 29,
   "id": "683dea63",
   "metadata": {},
   "outputs": [
    {
     "data": {
      "text/plain": [
       "range(0, 3)"
      ]
     },
     "execution_count": 29,
     "metadata": {},
     "output_type": "execute_result"
    }
   ],
   "source": [
    "range(3)"
   ]
  },
  {
   "cell_type": "code",
   "execution_count": 30,
   "id": "09e4a562",
   "metadata": {},
   "outputs": [
    {
     "name": "stdout",
     "output_type": "stream",
     "text": [
      "0\n",
      "1\n",
      "2\n"
     ]
    }
   ],
   "source": [
    "for x in range(0, 3):\n",
    "    print(x)"
   ]
  },
  {
   "cell_type": "code",
   "execution_count": 31,
   "id": "5838bb3d",
   "metadata": {},
   "outputs": [
    {
     "name": "stdout",
     "output_type": "stream",
     "text": [
      "AA\n",
      "BA\n",
      "CA\n"
     ]
    }
   ],
   "source": [
    "for x in ['A', 'B', 'C']:\n",
    "    print(x + 'A')"
   ]
  },
  {
   "cell_type": "code",
   "execution_count": 32,
   "id": "2b1e7c7f",
   "metadata": {},
   "outputs": [
    {
     "data": {
      "text/plain": [
       "1"
      ]
     },
     "execution_count": 32,
     "metadata": {},
     "output_type": "execute_result"
    }
   ],
   "source": [
    " len([sum([1,1,1])])"
   ]
  },
  {
   "cell_type": "code",
   "execution_count": 1,
   "id": "6e24bd0e",
   "metadata": {},
   "outputs": [
    {
     "data": {
      "text/plain": [
       "'11'"
      ]
     },
     "execution_count": 1,
     "metadata": {},
     "output_type": "execute_result"
    }
   ],
   "source": [
    " str(1)+str(1)"
   ]
  },
  {
   "cell_type": "code",
   "execution_count": 2,
   "id": "cc1a5f63",
   "metadata": {},
   "outputs": [
    {
     "data": {
      "text/plain": [
       "1"
      ]
     },
     "execution_count": 2,
     "metadata": {},
     "output_type": "execute_result"
    }
   ],
   "source": [
    "int(True)"
   ]
  },
  {
   "cell_type": "code",
   "execution_count": 3,
   "id": "1047619b",
   "metadata": {},
   "outputs": [
    {
     "data": {
      "text/plain": [
       "int"
      ]
     },
     "execution_count": 3,
     "metadata": {},
     "output_type": "execute_result"
    }
   ],
   "source": [
    "type(int(12.3))"
   ]
  },
  {
   "cell_type": "code",
   "execution_count": 4,
   "id": "dee93d43",
   "metadata": {},
   "outputs": [
    {
     "data": {
      "text/plain": [
       "7"
      ]
     },
     "execution_count": 4,
     "metadata": {},
     "output_type": "execute_result"
    }
   ],
   "source": [
    "1+3*2"
   ]
  },
  {
   "cell_type": "code",
   "execution_count": 5,
   "id": "b14a210f",
   "metadata": {},
   "outputs": [],
   "source": [
    "\n",
    " x=1\n",
    "\n",
    "x=x+1"
   ]
  },
  {
   "cell_type": "code",
   "execution_count": 6,
   "id": "6309512f",
   "metadata": {},
   "outputs": [
    {
     "data": {
      "text/plain": [
       "2"
      ]
     },
     "execution_count": 6,
     "metadata": {},
     "output_type": "execute_result"
    }
   ],
   "source": [
    "x"
   ]
  },
  {
   "cell_type": "code",
   "execution_count": 7,
   "id": "33062c4a",
   "metadata": {},
   "outputs": [],
   "source": [
    " x = 1/1"
   ]
  },
  {
   "cell_type": "code",
   "execution_count": 8,
   "id": "c1781da0",
   "metadata": {},
   "outputs": [
    {
     "data": {
      "text/plain": [
       "1.0"
      ]
     },
     "execution_count": 8,
     "metadata": {},
     "output_type": "execute_result"
    }
   ],
   "source": [
    "x\n"
   ]
  },
  {
   "cell_type": "code",
   "execution_count": 9,
   "id": "060de30c",
   "metadata": {},
   "outputs": [
    {
     "ename": "SyntaxError",
     "evalue": "invalid character '“' (U+201C) (928486112.py, line 1)",
     "output_type": "error",
     "traceback": [
      "\u001b[0;36m  Cell \u001b[0;32mIn[9], line 1\u001b[0;36m\u001b[0m\n\u001b[0;31m    x = “Fun Python”\u001b[0m\n\u001b[0m        ^\u001b[0m\n\u001b[0;31mSyntaxError\u001b[0m\u001b[0;31m:\u001b[0m invalid character '“' (U+201C)\n"
     ]
    }
   ],
   "source": [
    "x = “Fun Python”"
   ]
  },
  {
   "cell_type": "code",
   "execution_count": 10,
   "id": "caf4588f",
   "metadata": {},
   "outputs": [],
   "source": [
    "x = \"Fun Python\""
   ]
  },
  {
   "cell_type": "code",
   "execution_count": 11,
   "id": "797af6d0",
   "metadata": {},
   "outputs": [
    {
     "data": {
      "text/plain": [
       "'Python'"
      ]
     },
     "execution_count": 11,
     "metadata": {},
     "output_type": "execute_result"
    }
   ],
   "source": [
    "x[4:10]"
   ]
  },
  {
   "cell_type": "code",
   "execution_count": null,
   "id": "551d5333",
   "metadata": {},
   "outputs": [],
   "source": []
  }
 ],
 "metadata": {
  "kernelspec": {
   "display_name": "Python 3 (ipykernel)",
   "language": "python",
   "name": "python3"
  },
  "language_info": {
   "codemirror_mode": {
    "name": "ipython",
    "version": 3
   },
   "file_extension": ".py",
   "mimetype": "text/x-python",
   "name": "python",
   "nbconvert_exporter": "python",
   "pygments_lexer": "ipython3",
   "version": "3.11.5"
  }
 },
 "nbformat": 4,
 "nbformat_minor": 5
}
